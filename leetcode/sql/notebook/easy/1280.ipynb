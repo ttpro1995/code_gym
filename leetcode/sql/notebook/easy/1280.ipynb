{
 "cells": [
  {
   "cell_type": "code",
   "execution_count": 1,
   "metadata": {},
   "outputs": [],
   "source": [
    "\n",
    "# Write your MySQL query statement below\n",
    "\"\"\"\n",
    "WITH score_table AS \n",
    "(SELECT st.student_id, st.student_name, ex.subject_name, COUNT(ex.student_id) as attended_exams\n",
    "FROM students st\n",
    "LEFT JOIN examinations ex ON st.student_id = ex.student_id \n",
    "GROUP BY st.student_id, st.student_name, ex.subject_name\n",
    ")\n",
    "SELECT sc.student_id, sc.student_name, sc.subject_name, attended_exams\n",
    "FROM score_table sc\n",
    "CROSS JOIN subjects s ON sc.subject_name = s.subject_name\n",
    "\"\"\""
   ]
  },
  {
   "cell_type": "code",
   "execution_count": null,
   "metadata": {},
   "outputs": [],
   "source": [
    "\"\"\"\n",
    "# Write your MySQL query statement below\n",
    "WITH student_subject_table as (\n",
    "    SELECT student_id, student_name, subject_name \n",
    "    FROM students\n",
    "    CROSS JOIN subjects \n",
    ") \n",
    "WITH score_table AS \n",
    "(SELECT st.student_id, st.student_name, ex.subject_name, COUNT(ex.student_id) as attended_exams\n",
    "FROM students st\n",
    "LEFT JOIN examinations ex ON st.student_id = ex.student_id \n",
    "GROUP BY st.student_id, st.student_name, ex.subject_name\n",
    ")\n",
    "SELECT student_id, student_name, subject_name\n",
    "FROM student_subject_table as sst\n",
    "LEFT JOIN score_table sc ON \n",
    "sst.student_id = sc.student_id,\n",
    "sst.student_name = sc.student_name,\n",
    "sst.subject_name = sc.subject_name\n",
    "\"\"\""
   ]
  },
  {
   "cell_type": "code",
   "execution_count": null,
   "metadata": {},
   "outputs": [],
   "source": [
    "\"\"\"\n",
    "\n",
    "WITH student_subject_table as (\n",
    "    SELECT student_id, student_name, subject_name \n",
    "    FROM students\n",
    "    CROSS JOIN subjects \n",
    "), score_table AS \n",
    "(SELECT st.student_id, st.student_name, ex.subject_name, COUNT(ex.student_id) as attended_exams\n",
    "FROM students st\n",
    "LEFT JOIN examinations ex ON st.student_id = ex.student_id \n",
    "GROUP BY st.student_id, st.student_name, ex.subject_name\n",
    ")\n",
    "SELECT sst.student_id, sst.student_name, sst.subject_name, COALESCE(sc.attended_exams, 0)  AS attended_exams\n",
    "FROM score_table sc\n",
    "RIGHT JOIN student_subject_table sst on \n",
    "sc.student_id = sst.student_id AND\n",
    "sc.student_name = sst.student_name AND\n",
    "sc.subject_name = sst.subject_name\n",
    "ORDER BY student_id, subject_name\n",
    "\"\"\""
   ]
  },
  {
   "cell_type": "code",
   "execution_count": null,
   "metadata": {},
   "outputs": [],
   "source": [
    "\"\"\"\n",
    "WITH student_subject_table as (\n",
    "    SELECT student_id, student_name, subject_name \n",
    "    FROM students\n",
    "    CROSS JOIN subjects \n",
    "), score_table AS \n",
    "(SELECT st.student_id, st.student_name, ex.subject_name, COUNT(ex.student_id) as attended_exams\n",
    "FROM students st\n",
    "RIGHT JOIN examinations ex ON st.student_id = ex.student_id \n",
    "GROUP BY st.student_id, ex.subject_name\n",
    ")\n",
    "SELECT sst.student_id, sst.student_name, sst.subject_name, COALESCE(sc.attended_exams, 0)  AS attended_exams\n",
    "FROM score_table sc\n",
    "RIGHT JOIN student_subject_table sst on \n",
    "sc.student_id = sst.student_id AND\n",
    "sc.subject_name = sst.subject_name\n",
    "# WHERE sst.student_name IS NOT NULL\n",
    "ORDER BY student_id, subject_name\n",
    "\n",
    "\"\"\""
   ]
  }
 ],
 "metadata": {
  "kernelspec": {
   "display_name": "monitor-app",
   "language": "python",
   "name": "python3"
  },
  "language_info": {
   "codemirror_mode": {
    "name": "ipython",
    "version": 3
   },
   "file_extension": ".py",
   "mimetype": "text/x-python",
   "name": "python",
   "nbconvert_exporter": "python",
   "pygments_lexer": "ipython3",
   "version": "3.10.11"
  }
 },
 "nbformat": 4,
 "nbformat_minor": 2
}
