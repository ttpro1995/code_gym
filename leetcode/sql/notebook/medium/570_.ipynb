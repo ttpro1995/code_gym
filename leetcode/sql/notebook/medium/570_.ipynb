{
 "cells": [
  {
   "cell_type": "code",
   "execution_count": 1,
   "metadata": {},
   "outputs": [],
   "source": [
    "link = \"https://leetcode.com/problems/managers-with-at-least-5-direct-reports/description/?envType=study-plan-v2&envId=top-sql-50\""
   ]
  },
  {
   "cell_type": "code",
   "execution_count": 2,
   "metadata": {},
   "outputs": [],
   "source": [
    "mysql = \"\"\"\n",
    "# Write your MySQL query statement below\n",
    "WITH manager_table AS\n",
    "(\n",
    "    SELECT managerId, COUNT(managerId) as underline\n",
    "FROM employee e\n",
    "WHERE managerId is not null\n",
    "GROUP BY e.managerId\n",
    ")\n",
    "SELECT e.name\n",
    "FROM employee e \n",
    "LEFT JOIN manager_table m ON m.managerId = e.id\n",
    "WHERE m.underline >4\n",
    "\"\"\""
   ]
  },
  {
   "cell_type": "code",
   "execution_count": null,
   "metadata": {},
   "outputs": [],
   "source": []
  }
 ],
 "metadata": {
  "kernelspec": {
   "display_name": "py311",
   "language": "python",
   "name": "python3"
  },
  "language_info": {
   "codemirror_mode": {
    "name": "ipython",
    "version": 3
   },
   "file_extension": ".py",
   "mimetype": "text/x-python",
   "name": "python",
   "nbconvert_exporter": "python",
   "pygments_lexer": "ipython3",
   "version": "3.11.0"
  }
 },
 "nbformat": 4,
 "nbformat_minor": 2
}
