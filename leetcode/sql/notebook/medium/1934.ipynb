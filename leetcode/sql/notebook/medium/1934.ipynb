{
 "cells": [
  {
   "cell_type": "code",
   "execution_count": null,
   "metadata": {},
   "outputs": [],
   "source": []
  },
  {
   "cell_type": "code",
   "execution_count": null,
   "metadata": {},
   "outputs": [],
   "source": []
  },
  {
   "cell_type": "code",
   "execution_count": null,
   "metadata": {},
   "outputs": [],
   "source": [
    "mysql = \"\"\"\n",
    "# Write your MySQL query statement below\n",
    "# Write your MySQL query statement below\n",
    "WITH timeout_table AS \n",
    "(\n",
    "SELECT c.user_id, COUNT(c.action) as timeout_count\n",
    "FROM confirmations c\n",
    "WHERE c.action = 'timeout'\n",
    "GROUP BY c.user_id \n",
    "), confirm_table AS (\n",
    "    SELECT c.user_id, COUNT(c.action) as confirm_count\n",
    "    FROM confirmations c\n",
    "    WHERE c.action = \"confirmed\"\n",
    "    GROUP BY c.user_id\n",
    "), total_table AS (\n",
    "    SELECT c.user_id, COUNT(c.action) as total_count\n",
    "    FROM confirmations c\n",
    "    GROUP BY c.user_id\n",
    "), count_table AS (\n",
    "SELECT s.user_id, COALESCE(tt.timeout_count, 0) as timeout_count, COALESCE(ct.confirm_count, 0) AS confirm_count, COALESCE(tot.total_count, 1) AS total_count\n",
    "FROM signups s\n",
    "LEFT JOIN total_table tot ON tot.user_id = s.user_id \n",
    "LEFT JOIN timeout_table tt ON tt.user_id = s.user_id \n",
    "LEFT JOIN confirm_table ct ON ct.user_id = s.user_id \n",
    ") \n",
    "SELECT ct.user_id, ROUND(ct.confirm_count/ct.total_count, 2) as confirmation_rate\n",
    "FROM count_table ct\n",
    "\"\"\""
   ]
  }
 ],
 "metadata": {
  "language_info": {
   "name": "python"
  }
 },
 "nbformat": 4,
 "nbformat_minor": 2
}
